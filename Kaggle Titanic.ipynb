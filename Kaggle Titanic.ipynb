{
 "cells": [
  {
   "cell_type": "markdown",
   "metadata": {},
   "source": [
    "# Kaggle Titanic : Machine Learning from Disaster\n",
    "### Order of Work\n",
    "- Understand the data\n",
    "- asdf"
   ]
  },
  {
   "cell_type": "code",
   "execution_count": 765,
   "metadata": {},
   "outputs": [],
   "source": [
    "import pandas as pd\n",
    "import matplotlib.pyplot as plt\n",
    "%matplotlib inline\n",
    "import seaborn as sns\n",
    "sns.set()"
   ]
  },
  {
   "cell_type": "code",
   "execution_count": 973,
   "metadata": {},
   "outputs": [],
   "source": [
    "# load train & test data\n",
    "train = pd.read_csv(\"train.csv\")\n",
    "test = pd.read_csv('test.csv')"
   ]
  },
  {
   "cell_type": "markdown",
   "metadata": {},
   "source": [
    "### Data Description\n",
    "- <b>survival</b> : survive = 1 / dead = 0 <br>\n",
    "- <b>pclass</b> : ticket class : 1st = 1 / 2nd = 2 / 3rd = 3<br>\n",
    "- <b>sex</b><br>\n",
    "- <b>age</b> x.5 if estimated<br>\n",
    "- <b>sibsp</b> # of siblings / spouses aboard<br>\n",
    "- <b>parch</b> : # of parents / children aboard<br>\n",
    "- <b>ticket</b> : ticket number<br>\n",
    "- <b>fare</b> : passenger fare<br>\n",
    "- <b>cabin</b> : cabin number<br>\n",
    "- <b>embarked</b>"
   ]
  },
  {
   "cell_type": "code",
   "execution_count": 974,
   "metadata": {},
   "outputs": [
    {
     "data": {
      "text/html": [
       "<div>\n",
       "<style scoped>\n",
       "    .dataframe tbody tr th:only-of-type {\n",
       "        vertical-align: middle;\n",
       "    }\n",
       "\n",
       "    .dataframe tbody tr th {\n",
       "        vertical-align: top;\n",
       "    }\n",
       "\n",
       "    .dataframe thead th {\n",
       "        text-align: right;\n",
       "    }\n",
       "</style>\n",
       "<table border=\"1\" class=\"dataframe\">\n",
       "  <thead>\n",
       "    <tr style=\"text-align: right;\">\n",
       "      <th></th>\n",
       "      <th>PassengerId</th>\n",
       "      <th>Survived</th>\n",
       "      <th>Pclass</th>\n",
       "      <th>Name</th>\n",
       "      <th>Sex</th>\n",
       "      <th>Age</th>\n",
       "      <th>SibSp</th>\n",
       "      <th>Parch</th>\n",
       "      <th>Ticket</th>\n",
       "      <th>Fare</th>\n",
       "      <th>Cabin</th>\n",
       "      <th>Embarked</th>\n",
       "    </tr>\n",
       "  </thead>\n",
       "  <tbody>\n",
       "    <tr>\n",
       "      <th>0</th>\n",
       "      <td>1</td>\n",
       "      <td>0</td>\n",
       "      <td>3</td>\n",
       "      <td>Braund, Mr. Owen Harris</td>\n",
       "      <td>male</td>\n",
       "      <td>22.0</td>\n",
       "      <td>1</td>\n",
       "      <td>0</td>\n",
       "      <td>A/5 21171</td>\n",
       "      <td>7.2500</td>\n",
       "      <td>NaN</td>\n",
       "      <td>S</td>\n",
       "    </tr>\n",
       "    <tr>\n",
       "      <th>1</th>\n",
       "      <td>2</td>\n",
       "      <td>1</td>\n",
       "      <td>1</td>\n",
       "      <td>Cumings, Mrs. John Bradley (Florence Briggs Th...</td>\n",
       "      <td>female</td>\n",
       "      <td>38.0</td>\n",
       "      <td>1</td>\n",
       "      <td>0</td>\n",
       "      <td>PC 17599</td>\n",
       "      <td>71.2833</td>\n",
       "      <td>C85</td>\n",
       "      <td>C</td>\n",
       "    </tr>\n",
       "    <tr>\n",
       "      <th>2</th>\n",
       "      <td>3</td>\n",
       "      <td>1</td>\n",
       "      <td>3</td>\n",
       "      <td>Heikkinen, Miss. Laina</td>\n",
       "      <td>female</td>\n",
       "      <td>26.0</td>\n",
       "      <td>0</td>\n",
       "      <td>0</td>\n",
       "      <td>STON/O2. 3101282</td>\n",
       "      <td>7.9250</td>\n",
       "      <td>NaN</td>\n",
       "      <td>S</td>\n",
       "    </tr>\n",
       "    <tr>\n",
       "      <th>3</th>\n",
       "      <td>4</td>\n",
       "      <td>1</td>\n",
       "      <td>1</td>\n",
       "      <td>Futrelle, Mrs. Jacques Heath (Lily May Peel)</td>\n",
       "      <td>female</td>\n",
       "      <td>35.0</td>\n",
       "      <td>1</td>\n",
       "      <td>0</td>\n",
       "      <td>113803</td>\n",
       "      <td>53.1000</td>\n",
       "      <td>C123</td>\n",
       "      <td>S</td>\n",
       "    </tr>\n",
       "    <tr>\n",
       "      <th>4</th>\n",
       "      <td>5</td>\n",
       "      <td>0</td>\n",
       "      <td>3</td>\n",
       "      <td>Allen, Mr. William Henry</td>\n",
       "      <td>male</td>\n",
       "      <td>35.0</td>\n",
       "      <td>0</td>\n",
       "      <td>0</td>\n",
       "      <td>373450</td>\n",
       "      <td>8.0500</td>\n",
       "      <td>NaN</td>\n",
       "      <td>S</td>\n",
       "    </tr>\n",
       "  </tbody>\n",
       "</table>\n",
       "</div>"
      ],
      "text/plain": [
       "   PassengerId  Survived  Pclass  \\\n",
       "0            1         0       3   \n",
       "1            2         1       1   \n",
       "2            3         1       3   \n",
       "3            4         1       1   \n",
       "4            5         0       3   \n",
       "\n",
       "                                                Name     Sex   Age  SibSp  \\\n",
       "0                            Braund, Mr. Owen Harris    male  22.0      1   \n",
       "1  Cumings, Mrs. John Bradley (Florence Briggs Th...  female  38.0      1   \n",
       "2                             Heikkinen, Miss. Laina  female  26.0      0   \n",
       "3       Futrelle, Mrs. Jacques Heath (Lily May Peel)  female  35.0      1   \n",
       "4                           Allen, Mr. William Henry    male  35.0      0   \n",
       "\n",
       "   Parch            Ticket     Fare Cabin Embarked  \n",
       "0      0         A/5 21171   7.2500   NaN        S  \n",
       "1      0          PC 17599  71.2833   C85        C  \n",
       "2      0  STON/O2. 3101282   7.9250   NaN        S  \n",
       "3      0            113803  53.1000  C123        S  \n",
       "4      0            373450   8.0500   NaN        S  "
      ]
     },
     "execution_count": 974,
     "metadata": {},
     "output_type": "execute_result"
    }
   ],
   "source": [
    "train.head(5)"
   ]
  },
  {
   "cell_type": "code",
   "execution_count": 975,
   "metadata": {},
   "outputs": [
    {
     "data": {
      "text/html": [
       "<div>\n",
       "<style scoped>\n",
       "    .dataframe tbody tr th:only-of-type {\n",
       "        vertical-align: middle;\n",
       "    }\n",
       "\n",
       "    .dataframe tbody tr th {\n",
       "        vertical-align: top;\n",
       "    }\n",
       "\n",
       "    .dataframe thead th {\n",
       "        text-align: right;\n",
       "    }\n",
       "</style>\n",
       "<table border=\"1\" class=\"dataframe\">\n",
       "  <thead>\n",
       "    <tr style=\"text-align: right;\">\n",
       "      <th></th>\n",
       "      <th>PassengerId</th>\n",
       "      <th>Pclass</th>\n",
       "      <th>Name</th>\n",
       "      <th>Sex</th>\n",
       "      <th>Age</th>\n",
       "      <th>SibSp</th>\n",
       "      <th>Parch</th>\n",
       "      <th>Ticket</th>\n",
       "      <th>Fare</th>\n",
       "      <th>Cabin</th>\n",
       "      <th>Embarked</th>\n",
       "    </tr>\n",
       "  </thead>\n",
       "  <tbody>\n",
       "    <tr>\n",
       "      <th>0</th>\n",
       "      <td>892</td>\n",
       "      <td>3</td>\n",
       "      <td>Kelly, Mr. James</td>\n",
       "      <td>male</td>\n",
       "      <td>34.5</td>\n",
       "      <td>0</td>\n",
       "      <td>0</td>\n",
       "      <td>330911</td>\n",
       "      <td>7.8292</td>\n",
       "      <td>NaN</td>\n",
       "      <td>Q</td>\n",
       "    </tr>\n",
       "    <tr>\n",
       "      <th>1</th>\n",
       "      <td>893</td>\n",
       "      <td>3</td>\n",
       "      <td>Wilkes, Mrs. James (Ellen Needs)</td>\n",
       "      <td>female</td>\n",
       "      <td>47.0</td>\n",
       "      <td>1</td>\n",
       "      <td>0</td>\n",
       "      <td>363272</td>\n",
       "      <td>7.0000</td>\n",
       "      <td>NaN</td>\n",
       "      <td>S</td>\n",
       "    </tr>\n",
       "    <tr>\n",
       "      <th>2</th>\n",
       "      <td>894</td>\n",
       "      <td>2</td>\n",
       "      <td>Myles, Mr. Thomas Francis</td>\n",
       "      <td>male</td>\n",
       "      <td>62.0</td>\n",
       "      <td>0</td>\n",
       "      <td>0</td>\n",
       "      <td>240276</td>\n",
       "      <td>9.6875</td>\n",
       "      <td>NaN</td>\n",
       "      <td>Q</td>\n",
       "    </tr>\n",
       "    <tr>\n",
       "      <th>3</th>\n",
       "      <td>895</td>\n",
       "      <td>3</td>\n",
       "      <td>Wirz, Mr. Albert</td>\n",
       "      <td>male</td>\n",
       "      <td>27.0</td>\n",
       "      <td>0</td>\n",
       "      <td>0</td>\n",
       "      <td>315154</td>\n",
       "      <td>8.6625</td>\n",
       "      <td>NaN</td>\n",
       "      <td>S</td>\n",
       "    </tr>\n",
       "    <tr>\n",
       "      <th>4</th>\n",
       "      <td>896</td>\n",
       "      <td>3</td>\n",
       "      <td>Hirvonen, Mrs. Alexander (Helga E Lindqvist)</td>\n",
       "      <td>female</td>\n",
       "      <td>22.0</td>\n",
       "      <td>1</td>\n",
       "      <td>1</td>\n",
       "      <td>3101298</td>\n",
       "      <td>12.2875</td>\n",
       "      <td>NaN</td>\n",
       "      <td>S</td>\n",
       "    </tr>\n",
       "  </tbody>\n",
       "</table>\n",
       "</div>"
      ],
      "text/plain": [
       "   PassengerId  Pclass                                          Name     Sex  \\\n",
       "0          892       3                              Kelly, Mr. James    male   \n",
       "1          893       3              Wilkes, Mrs. James (Ellen Needs)  female   \n",
       "2          894       2                     Myles, Mr. Thomas Francis    male   \n",
       "3          895       3                              Wirz, Mr. Albert    male   \n",
       "4          896       3  Hirvonen, Mrs. Alexander (Helga E Lindqvist)  female   \n",
       "\n",
       "    Age  SibSp  Parch   Ticket     Fare Cabin Embarked  \n",
       "0  34.5      0      0   330911   7.8292   NaN        Q  \n",
       "1  47.0      1      0   363272   7.0000   NaN        S  \n",
       "2  62.0      0      0   240276   9.6875   NaN        Q  \n",
       "3  27.0      0      0   315154   8.6625   NaN        S  \n",
       "4  22.0      1      1  3101298  12.2875   NaN        S  "
      ]
     },
     "execution_count": 975,
     "metadata": {},
     "output_type": "execute_result"
    }
   ],
   "source": [
    "test.head(5)"
   ]
  },
  {
   "cell_type": "code",
   "execution_count": 976,
   "metadata": {},
   "outputs": [],
   "source": [
    "#Drop passenger id, ticket : considered unnecessary\n",
    "train = train.drop(['PassengerId'], axis = 1)\n",
    "train = train.drop(['Ticket'], axis = 1)\n",
    "\n",
    "test = test.drop(['Ticket'], axis = 1)"
   ]
  },
  {
   "cell_type": "code",
   "execution_count": 977,
   "metadata": {},
   "outputs": [
    {
     "data": {
      "text/plain": [
       "((891, 10), (418, 10))"
      ]
     },
     "execution_count": 977,
     "metadata": {},
     "output_type": "execute_result"
    }
   ],
   "source": [
    "train.shape, test.shape\n",
    "#train : 891 sets of data & 12 features\n",
    "#test :  418 sets of data & 11 features (X survived)"
   ]
  },
  {
   "cell_type": "code",
   "execution_count": 978,
   "metadata": {},
   "outputs": [
    {
     "data": {
      "text/plain": [
       "Survived      0\n",
       "Pclass        0\n",
       "Name          0\n",
       "Sex           0\n",
       "Age         177\n",
       "SibSp         0\n",
       "Parch         0\n",
       "Fare          0\n",
       "Cabin       687\n",
       "Embarked      2\n",
       "dtype: int64"
      ]
     },
     "execution_count": 978,
     "metadata": {},
     "output_type": "execute_result"
    }
   ],
   "source": [
    "# find missing values\n",
    "train.isnull().sum()"
   ]
  },
  {
   "cell_type": "code",
   "execution_count": 979,
   "metadata": {},
   "outputs": [
    {
     "data": {
      "text/plain": [
       "PassengerId      0\n",
       "Pclass           0\n",
       "Name             0\n",
       "Sex              0\n",
       "Age             86\n",
       "SibSp            0\n",
       "Parch            0\n",
       "Fare             1\n",
       "Cabin          327\n",
       "Embarked         0\n",
       "dtype: int64"
      ]
     },
     "execution_count": 979,
     "metadata": {},
     "output_type": "execute_result"
    }
   ],
   "source": [
    "test.isnull().sum()"
   ]
  },
  {
   "cell_type": "code",
   "execution_count": 980,
   "metadata": {},
   "outputs": [],
   "source": [
    "test[\"Fare\"].fillna(test.groupby(\"Pclass\")[\"Fare\"].transform(\"median\"), inplace=True)"
   ]
  },
  {
   "cell_type": "markdown",
   "metadata": {},
   "source": [
    "### Fiiling in 'Age' missing value"
   ]
  },
  {
   "cell_type": "code",
   "execution_count": 981,
   "metadata": {},
   "outputs": [],
   "source": [
    "# Extraction of 'title' information from train['Name']\n",
    "train['Title'] = train['Name'].str.extract(' ([A-Za-z]+)\\.', expand=False)\n",
    "train = train.drop(['Name'], axis = 1)\n",
    "\n",
    "test['Title'] = test['Name'].str.extract(' ([A-Za-z]+)\\.', expand=False)\n",
    "test = test.drop(['Name'], axis = 1)"
   ]
  },
  {
   "cell_type": "code",
   "execution_count": 982,
   "metadata": {},
   "outputs": [
    {
     "data": {
      "text/plain": [
       "Mr        240\n",
       "Miss       78\n",
       "Mrs        72\n",
       "Master     21\n",
       "Col         2\n",
       "Rev         2\n",
       "Dona        1\n",
       "Ms          1\n",
       "Dr          1\n",
       "Name: Title, dtype: int64"
      ]
     },
     "execution_count": 982,
     "metadata": {},
     "output_type": "execute_result"
    }
   ],
   "source": [
    "test['Title'].value_counts()"
   ]
  },
  {
   "cell_type": "code",
   "execution_count": 983,
   "metadata": {},
   "outputs": [],
   "source": [
    "titleMap = {\"Mr\": 0, \"Miss\": 1, \"Mrs\": 2, \"Master\": 3, \"Dr\": 3, \"Rev\": 3, \"Col\": 3, \"Major\": 3, \"Mlle\": 3,\"Countess\": 3,\n",
    "                 \"Ms\": 3, \"Lady\": 3, \"Jonkheer\": 3, \"Don\": 3, \"Dona\" : 3, \"Mme\": 3,\"Capt\": 3,\"Sir\": 3 }\n",
    "\n",
    "train['Title'] = train['Title'].map(titleMap)\n",
    "test['Title'] = test['Title'].map(titleMap)"
   ]
  },
  {
   "cell_type": "code",
   "execution_count": 984,
   "metadata": {},
   "outputs": [],
   "source": [
    "train[\"Age\"].fillna(train.groupby(\"Title\")[\"Age\"].transform(\"mean\"), inplace=True)\n",
    "test[\"Age\"].fillna(test.groupby(\"Title\")[\"Age\"].transform(\"mean\"), inplace=True)"
   ]
  },
  {
   "cell_type": "code",
   "execution_count": 985,
   "metadata": {},
   "outputs": [
    {
     "data": {
      "text/plain": [
       "(0, 0)"
      ]
     },
     "execution_count": 985,
     "metadata": {},
     "output_type": "execute_result"
    }
   ],
   "source": [
    "train['Age'].isnull().sum(), test['Age'].isnull().sum() #ALL Filled"
   ]
  },
  {
   "cell_type": "markdown",
   "metadata": {},
   "source": [
    "##### Deciding the gap between ages"
   ]
  },
  {
   "cell_type": "code",
   "execution_count": 986,
   "metadata": {},
   "outputs": [
    {
     "data": {
      "image/png": "[encoded data removed]",
      "text/plain": [
       "<Figure size 912.55x216 with 1 Axes>"
      ]
     },
     "metadata": {},
     "output_type": "display_data"
    }
   ],
   "source": [
    "facet = sns.FacetGrid(train, hue=\"Survived\",aspect=4)\n",
    "facet.map(sns.kdeplot,'Age',shade= True)\n",
    "facet.set(xlim=(0, train['Age'].max()))\n",
    "facet.add_legend()\n",
    " \n",
    "plt.show() "
   ]
  },
  {
   "cell_type": "code",
   "execution_count": 987,
   "metadata": {},
   "outputs": [
    {
     "data": {
      "image/png": "[encoded data removed]",
      "text/plain": [
       "<Figure size 912.55x216 with 1 Axes>"
      ]
     },
     "metadata": {},
     "output_type": "display_data"
    }
   ],
   "source": [
    "facet = sns.FacetGrid(train, hue=\"Survived\",aspect=4)\n",
    "facet.map(sns.kdeplot,'Age',shade= True)\n",
    "facet.set(xlim=(0, 20))\n",
    "facet.add_legend()\n",
    " \n",
    "plt.show() # 0 ~ 15"
   ]
  },
  {
   "cell_type": "code",
   "execution_count": 988,
   "metadata": {},
   "outputs": [
    {
     "data": {
      "image/png": "[encoded data removed]",
      "text/plain": [
       "<Figure size 912.55x216 with 1 Axes>"
      ]
     },
     "metadata": {},
     "output_type": "display_data"
    }
   ],
   "source": [
    "facet = sns.FacetGrid(train, hue=\"Survived\",aspect=4)\n",
    "facet.map(sns.kdeplot,'Age',shade= True)\n",
    "facet.set(xlim=(20, 30))\n",
    "facet.add_legend()\n",
    " \n",
    "plt.show() # ~ 24"
   ]
  },
  {
   "cell_type": "code",
   "execution_count": 989,
   "metadata": {},
   "outputs": [
    {
     "data": {
      "image/png": "[encoded data removed]",
      "text/plain": [
       "<Figure size 912.55x216 with 1 Axes>"
      ]
     },
     "metadata": {},
     "output_type": "display_data"
    }
   ],
   "source": [
    "facet = sns.FacetGrid(train, hue=\"Survived\",aspect=4)\n",
    "facet.map(sns.kdeplot,'Age',shade= True)\n",
    "facet.set(xlim=(33, 40))\n",
    "facet.add_legend()\n",
    " \n",
    "plt.show() # ~ 37"
   ]
  },
  {
   "cell_type": "code",
   "execution_count": 990,
   "metadata": {},
   "outputs": [
    {
     "data": {
      "image/png": "[encoded data removed]",
      "text/plain": [
       "<Figure size 912.55x216 with 1 Axes>"
      ]
     },
     "metadata": {},
     "output_type": "display_data"
    }
   ],
   "source": [
    "facet = sns.FacetGrid(train, hue=\"Survived\",aspect=4)\n",
    "facet.map(sns.kdeplot,'Age',shade= True)\n",
    "facet.set(xlim=(50, 65))\n",
    "facet.set(ylim = (0, 0.01))\n",
    "facet.add_legend()\n",
    " \n",
    "plt.show() # ~ 59"
   ]
  },
  {
   "cell_type": "code",
   "execution_count": 991,
   "metadata": {},
   "outputs": [],
   "source": [
    "#same interval(almost)\n",
    "train.loc[train['Age'] <= 15 , 'Age'] = 0\n",
    "train.loc[(15 < train['Age']) & (train['Age'] <= 24) , 'Age'] = 1\n",
    "train.loc[(24 < train['Age']) & (train['Age'] <= 37) , 'Age'] = 2\n",
    "train.loc[(37 <= train['Age']) & (train['Age'] <= 59) , 'Age'] = 3\n",
    "train.loc[59 < train['Age'] , 'Age'] = 4\n",
    "\n",
    "test.loc[test['Age'] <= 15 , 'Age'] = 0\n",
    "test.loc[(15 < test['Age']) & (test['Age'] <= 24) , 'Age'] = 1\n",
    "test.loc[(24 < test['Age']) & (test['Age'] <= 37) , 'Age'] = 2\n",
    "test.loc[(37 <= test['Age']) & (test['Age'] <= 59) , 'Age'] = 3\n",
    "test.loc[59 < test['Age'] , 'Age'] = 4"
   ]
  },
  {
   "cell_type": "markdown",
   "metadata": {},
   "source": [
    "### Filling in 'Cabin' missing values"
   ]
  },
  {
   "cell_type": "code",
   "execution_count": 992,
   "metadata": {},
   "outputs": [],
   "source": [
    "#Picking out the first letter of the cabin\n",
    "train['Cabin'] = train['Cabin'].str[:1]\n",
    "test['Cabin'] = test['Cabin'].str[:1]"
   ]
  },
  {
   "cell_type": "code",
   "execution_count": 993,
   "metadata": {},
   "outputs": [
    {
     "data": {
      "text/plain": [
       "C    59\n",
       "B    47\n",
       "D    33\n",
       "E    32\n",
       "A    15\n",
       "F    13\n",
       "G     4\n",
       "T     1\n",
       "Name: Cabin, dtype: int64"
      ]
     },
     "execution_count": 993,
     "metadata": {},
     "output_type": "execute_result"
    }
   ],
   "source": [
    "train['Cabin'].value_counts()"
   ]
  },
  {
   "cell_type": "code",
   "execution_count": 994,
   "metadata": {},
   "outputs": [],
   "source": [
    "cabinMap = {\"C\" : 0, \"B\" : 1, \"D\" : 2, \"E\" : 3, \"A\" : 4, \"F\" : 4, \"G\" : 4, \"T\" : 4}\n",
    "train['Cabin'] = train['Cabin'].map(cabinMap)\n",
    "test['Cabin'] = test['Cabin'].map(cabinMap)"
   ]
  },
  {
   "cell_type": "code",
   "execution_count": 995,
   "metadata": {},
   "outputs": [],
   "source": [
    "train[\"Cabin\"].fillna(train.groupby(\"Pclass\")[\"Cabin\"].transform(\"median\"), inplace=True)\n",
    "test[\"Cabin\"].fillna(test.groupby(\"Pclass\")[\"Cabin\"].transform(\"median\"), inplace=True)"
   ]
  },
  {
   "cell_type": "code",
   "execution_count": 996,
   "metadata": {},
   "outputs": [
    {
     "data": {
      "text/plain": [
       "(4.0    512\n",
       " 3.5    168\n",
       " 1.0     87\n",
       " 0.0     59\n",
       " 2.0     33\n",
       " 3.0     32\n",
       " Name: Cabin, dtype: int64, 4.0    316\n",
       " 1.0     45\n",
       " 0.0     35\n",
       " 2.0     13\n",
       " 3.0      9\n",
       " Name: Cabin, dtype: int64)"
      ]
     },
     "execution_count": 996,
     "metadata": {},
     "output_type": "execute_result"
    }
   ],
   "source": [
    "train['Cabin'].value_counts(), test['Cabin'].value_counts()"
   ]
  },
  {
   "cell_type": "code",
   "execution_count": 997,
   "metadata": {},
   "outputs": [
    {
     "data": {
      "text/plain": [
       "Survived  Cabin\n",
       "0         4.0      382\n",
       "          3.5       94\n",
       "          1.0       33\n",
       "          0.0       24\n",
       "          2.0        8\n",
       "          3.0        8\n",
       "1         4.0      130\n",
       "          3.5       74\n",
       "          1.0       54\n",
       "          0.0       35\n",
       "          2.0       25\n",
       "          3.0       24\n",
       "Name: Cabin, dtype: int64"
      ]
     },
     "execution_count": 997,
     "metadata": {},
     "output_type": "execute_result"
    }
   ],
   "source": [
    "train.groupby(\"Survived\")[\"Cabin\"].value_counts()"
   ]
  },
  {
   "cell_type": "markdown",
   "metadata": {},
   "source": [
    "##### Filling 'Embarked' missing value"
   ]
  },
  {
   "cell_type": "code",
   "execution_count": 998,
   "metadata": {},
   "outputs": [
    {
     "data": {
      "text/plain": [
       "S    644\n",
       "C    168\n",
       "Q     77\n",
       "Name: Embarked, dtype: int64"
      ]
     },
     "execution_count": 998,
     "metadata": {},
     "output_type": "execute_result"
    }
   ],
   "source": [
    "train['Embarked'].value_counts() #'S' is most common"
   ]
  },
  {
   "cell_type": "code",
   "execution_count": 999,
   "metadata": {},
   "outputs": [],
   "source": [
    "train['Embarked'] = train['Embarked'].fillna('S')\n",
    "test['Embarked'] = test['Embarked'].fillna('S')"
   ]
  },
  {
   "cell_type": "code",
   "execution_count": 1000,
   "metadata": {},
   "outputs": [],
   "source": [
    "embarkedMap = {\"S\" : 0, \"C\" : 1, \"Q\" : 2}\n",
    "train['Embarked'] = train['Embarked'].map(embarkedMap)\n",
    "test['Embarked'] = test['Embarked'].map(embarkedMap)"
   ]
  },
  {
   "cell_type": "markdown",
   "metadata": {},
   "source": [
    "### +"
   ]
  },
  {
   "cell_type": "code",
   "execution_count": 1001,
   "metadata": {},
   "outputs": [],
   "source": [
    "#Mapping\n",
    "sexMap = {\"male\" : 0, \"female\" : 1}\n",
    "train['Sex'] = train['Sex'].map(sexMap)\n",
    "test['Sex'] = test['Sex'].map(sexMap)"
   ]
  },
  {
   "cell_type": "code",
   "execution_count": 1002,
   "metadata": {},
   "outputs": [],
   "source": [
    "train[\"Family\"] = train[\"SibSp\"] + train[\"Parch\"] + 1\n",
    "test[\"Family\"] = test[\"SibSp\"] + test[\"Parch\"] + 1"
   ]
  },
  {
   "cell_type": "code",
   "execution_count": 1003,
   "metadata": {},
   "outputs": [
    {
     "data": {
      "text/plain": [
       "1     537\n",
       "2     161\n",
       "3     102\n",
       "4      29\n",
       "6      22\n",
       "5      15\n",
       "7      12\n",
       "11      7\n",
       "8       6\n",
       "Name: Family, dtype: int64"
      ]
     },
     "execution_count": 1003,
     "metadata": {},
     "output_type": "execute_result"
    }
   ],
   "source": [
    "train['Family'].value_counts()"
   ]
  },
  {
   "cell_type": "code",
   "execution_count": 1004,
   "metadata": {},
   "outputs": [
    {
     "data": {
      "text/plain": [
       "1    163\n",
       "2     89\n",
       "3     59\n",
       "4     21\n",
       "7      4\n",
       "6      3\n",
       "5      3\n",
       "Name: Family, dtype: int64"
      ]
     },
     "execution_count": 1004,
     "metadata": {},
     "output_type": "execute_result"
    }
   ],
   "source": [
    "train[train['Survived'] == 1]['Family'].value_counts()"
   ]
  },
  {
   "cell_type": "code",
   "execution_count": 1005,
   "metadata": {},
   "outputs": [
    {
     "data": {
      "text/plain": [
       "1     374\n",
       "2      72\n",
       "3      43\n",
       "6      19\n",
       "5      12\n",
       "7       8\n",
       "4       8\n",
       "11      7\n",
       "8       6\n",
       "Name: Family, dtype: int64"
      ]
     },
     "execution_count": 1005,
     "metadata": {},
     "output_type": "execute_result"
    }
   ],
   "source": [
    "train[train['Survived'] == 0]['Family'].value_counts()"
   ]
  },
  {
   "cell_type": "code",
   "execution_count": 1006,
   "metadata": {},
   "outputs": [],
   "source": [
    "familyMap = {0: 0, 1: 1, 2: 2, 5: 3, 4: 3, 6: 3, 3: 3, 10: 3, 7: 3}\n",
    "train['Family'] = train['Family'].map(familyMap)\n",
    "test['Family'] = test['Family'].map(familyMap)"
   ]
  },
  {
   "cell_type": "code",
   "execution_count": 1007,
   "metadata": {},
   "outputs": [
    {
     "data": {
      "text/plain": [
       "Survived  Family\n",
       "0         1.0       374\n",
       "          3.0        90\n",
       "          2.0        72\n",
       "1         1.0       163\n",
       "          3.0        90\n",
       "          2.0        89\n",
       "Name: Family, dtype: int64"
      ]
     },
     "execution_count": 1007,
     "metadata": {},
     "output_type": "execute_result"
    }
   ],
   "source": [
    "train.groupby(\"Survived\")[\"Family\"].value_counts()"
   ]
  },
  {
   "cell_type": "code",
   "execution_count": 1008,
   "metadata": {},
   "outputs": [],
   "source": [
    "train = train.drop(['SibSp'], axis = 1)\n",
    "test = test.drop(['SibSp'], axis = 1)\n",
    "\n",
    "train = train.drop(['Parch'], axis = 1)\n",
    "test = test.drop(['Parch'], axis = 1)"
   ]
  },
  {
   "cell_type": "code",
   "execution_count": 1009,
   "metadata": {},
   "outputs": [
    {
     "data": {
      "image/png": "[encoded data removed]",
      "text/plain": [
       "<Figure size 912.55x216 with 1 Axes>"
      ]
     },
     "metadata": {},
     "output_type": "display_data"
    }
   ],
   "source": [
    "# Fare\n",
    "facet = sns.FacetGrid(train, hue=\"Survived\",aspect=4)\n",
    "facet.map(sns.kdeplot,'Fare',shade= True)\n",
    "facet.set(xlim=(0, train['Fare'].max()))\n",
    "facet.add_legend()\n",
    " \n",
    "plt.show()  "
   ]
  },
  {
   "cell_type": "code",
   "execution_count": 1010,
   "metadata": {},
   "outputs": [
    {
     "data": {
      "image/png": "[encoded data removed]",
      "text/plain": [
       "<Figure size 912.55x216 with 1 Axes>"
      ]
     },
     "metadata": {},
     "output_type": "display_data"
    }
   ],
   "source": [
    "facet = sns.FacetGrid(train, hue=\"Survived\",aspect=4)\n",
    "facet.map(sns.kdeplot,'Fare',shade= True)\n",
    "facet.set(xlim=(10, 50))\n",
    "facet.add_legend()\n",
    " \n",
    "plt.show()  # ~15 ~30"
   ]
  },
  {
   "cell_type": "code",
   "execution_count": 1011,
   "metadata": {},
   "outputs": [
    {
     "data": {
      "image/png": "[encoded data removed]",
      "text/plain": [
       "<Figure size 912.55x216 with 1 Axes>"
      ]
     },
     "metadata": {},
     "output_type": "display_data"
    }
   ],
   "source": [
    "facet = sns.FacetGrid(train, hue=\"Survived\",aspect=4)\n",
    "facet.map(sns.kdeplot,'Fare',shade= True)\n",
    "facet.set(xlim=(50, 100))\n",
    "facet.set(ylim = (0, 0.01))\n",
    "facet.add_legend()\n",
    " \n",
    "plt.show()  # 100"
   ]
  },
  {
   "cell_type": "code",
   "execution_count": 1012,
   "metadata": {},
   "outputs": [],
   "source": [
    "train.loc[train['Fare'] <= 15 , 'Fare'] = 0\n",
    "train.loc[(15 < train['Fare']) & (train['Fare'] <= 30) , 'Fare'] = 1\n",
    "train.loc[(30 < train['Fare']) & (train['Fare'] <= 100) , 'Fare'] = 2\n",
    "train.loc[100 < train['Fare'] , 'Fare'] = 3\n",
    "\n",
    "test.loc[test['Fare'] <= 15 , 'Fare'] = 0\n",
    "test.loc[(15 < test['Fare']) & (test['Fare'] <= 30) , 'Fare'] = 1\n",
    "test.loc[(30 < test['Fare']) & (test['Fare'] <= 100) , 'Fare'] = 2\n",
    "test.loc[100 < test['Fare'] , 'Fare'] = 3"
   ]
  },
  {
   "cell_type": "code",
   "execution_count": 1013,
   "metadata": {},
   "outputs": [
    {
     "data": {
      "text/html": [
       "<div>\n",
       "<style scoped>\n",
       "    .dataframe tbody tr th:only-of-type {\n",
       "        vertical-align: middle;\n",
       "    }\n",
       "\n",
       "    .dataframe tbody tr th {\n",
       "        vertical-align: top;\n",
       "    }\n",
       "\n",
       "    .dataframe thead th {\n",
       "        text-align: right;\n",
       "    }\n",
       "</style>\n",
       "<table border=\"1\" class=\"dataframe\">\n",
       "  <thead>\n",
       "    <tr style=\"text-align: right;\">\n",
       "      <th></th>\n",
       "      <th>Survived</th>\n",
       "      <th>Pclass</th>\n",
       "      <th>Sex</th>\n",
       "      <th>Age</th>\n",
       "      <th>Fare</th>\n",
       "      <th>Cabin</th>\n",
       "      <th>Embarked</th>\n",
       "      <th>Title</th>\n",
       "      <th>Family</th>\n",
       "    </tr>\n",
       "  </thead>\n",
       "  <tbody>\n",
       "    <tr>\n",
       "      <th>0</th>\n",
       "      <td>0</td>\n",
       "      <td>3</td>\n",
       "      <td>0</td>\n",
       "      <td>1.0</td>\n",
       "      <td>0.0</td>\n",
       "      <td>4.0</td>\n",
       "      <td>0</td>\n",
       "      <td>0</td>\n",
       "      <td>2.0</td>\n",
       "    </tr>\n",
       "    <tr>\n",
       "      <th>1</th>\n",
       "      <td>1</td>\n",
       "      <td>1</td>\n",
       "      <td>1</td>\n",
       "      <td>3.0</td>\n",
       "      <td>2.0</td>\n",
       "      <td>0.0</td>\n",
       "      <td>1</td>\n",
       "      <td>2</td>\n",
       "      <td>2.0</td>\n",
       "    </tr>\n",
       "    <tr>\n",
       "      <th>2</th>\n",
       "      <td>1</td>\n",
       "      <td>3</td>\n",
       "      <td>1</td>\n",
       "      <td>2.0</td>\n",
       "      <td>0.0</td>\n",
       "      <td>4.0</td>\n",
       "      <td>0</td>\n",
       "      <td>1</td>\n",
       "      <td>1.0</td>\n",
       "    </tr>\n",
       "    <tr>\n",
       "      <th>3</th>\n",
       "      <td>1</td>\n",
       "      <td>1</td>\n",
       "      <td>1</td>\n",
       "      <td>2.0</td>\n",
       "      <td>2.0</td>\n",
       "      <td>0.0</td>\n",
       "      <td>0</td>\n",
       "      <td>2</td>\n",
       "      <td>2.0</td>\n",
       "    </tr>\n",
       "    <tr>\n",
       "      <th>4</th>\n",
       "      <td>0</td>\n",
       "      <td>3</td>\n",
       "      <td>0</td>\n",
       "      <td>2.0</td>\n",
       "      <td>0.0</td>\n",
       "      <td>4.0</td>\n",
       "      <td>0</td>\n",
       "      <td>0</td>\n",
       "      <td>1.0</td>\n",
       "    </tr>\n",
       "    <tr>\n",
       "      <th>5</th>\n",
       "      <td>0</td>\n",
       "      <td>3</td>\n",
       "      <td>0</td>\n",
       "      <td>2.0</td>\n",
       "      <td>0.0</td>\n",
       "      <td>4.0</td>\n",
       "      <td>2</td>\n",
       "      <td>0</td>\n",
       "      <td>1.0</td>\n",
       "    </tr>\n",
       "    <tr>\n",
       "      <th>6</th>\n",
       "      <td>0</td>\n",
       "      <td>1</td>\n",
       "      <td>0</td>\n",
       "      <td>3.0</td>\n",
       "      <td>2.0</td>\n",
       "      <td>3.0</td>\n",
       "      <td>0</td>\n",
       "      <td>0</td>\n",
       "      <td>1.0</td>\n",
       "    </tr>\n",
       "    <tr>\n",
       "      <th>7</th>\n",
       "      <td>0</td>\n",
       "      <td>3</td>\n",
       "      <td>0</td>\n",
       "      <td>0.0</td>\n",
       "      <td>1.0</td>\n",
       "      <td>4.0</td>\n",
       "      <td>0</td>\n",
       "      <td>3</td>\n",
       "      <td>3.0</td>\n",
       "    </tr>\n",
       "    <tr>\n",
       "      <th>8</th>\n",
       "      <td>1</td>\n",
       "      <td>3</td>\n",
       "      <td>1</td>\n",
       "      <td>2.0</td>\n",
       "      <td>0.0</td>\n",
       "      <td>4.0</td>\n",
       "      <td>0</td>\n",
       "      <td>2</td>\n",
       "      <td>3.0</td>\n",
       "    </tr>\n",
       "    <tr>\n",
       "      <th>9</th>\n",
       "      <td>1</td>\n",
       "      <td>2</td>\n",
       "      <td>1</td>\n",
       "      <td>0.0</td>\n",
       "      <td>2.0</td>\n",
       "      <td>3.5</td>\n",
       "      <td>1</td>\n",
       "      <td>2</td>\n",
       "      <td>2.0</td>\n",
       "    </tr>\n",
       "    <tr>\n",
       "      <th>10</th>\n",
       "      <td>1</td>\n",
       "      <td>3</td>\n",
       "      <td>1</td>\n",
       "      <td>0.0</td>\n",
       "      <td>1.0</td>\n",
       "      <td>4.0</td>\n",
       "      <td>0</td>\n",
       "      <td>1</td>\n",
       "      <td>3.0</td>\n",
       "    </tr>\n",
       "    <tr>\n",
       "      <th>11</th>\n",
       "      <td>1</td>\n",
       "      <td>1</td>\n",
       "      <td>1</td>\n",
       "      <td>3.0</td>\n",
       "      <td>1.0</td>\n",
       "      <td>0.0</td>\n",
       "      <td>0</td>\n",
       "      <td>1</td>\n",
       "      <td>1.0</td>\n",
       "    </tr>\n",
       "    <tr>\n",
       "      <th>12</th>\n",
       "      <td>0</td>\n",
       "      <td>3</td>\n",
       "      <td>0</td>\n",
       "      <td>1.0</td>\n",
       "      <td>0.0</td>\n",
       "      <td>4.0</td>\n",
       "      <td>0</td>\n",
       "      <td>0</td>\n",
       "      <td>1.0</td>\n",
       "    </tr>\n",
       "    <tr>\n",
       "      <th>13</th>\n",
       "      <td>0</td>\n",
       "      <td>3</td>\n",
       "      <td>0</td>\n",
       "      <td>3.0</td>\n",
       "      <td>2.0</td>\n",
       "      <td>4.0</td>\n",
       "      <td>0</td>\n",
       "      <td>0</td>\n",
       "      <td>3.0</td>\n",
       "    </tr>\n",
       "    <tr>\n",
       "      <th>14</th>\n",
       "      <td>0</td>\n",
       "      <td>3</td>\n",
       "      <td>1</td>\n",
       "      <td>0.0</td>\n",
       "      <td>0.0</td>\n",
       "      <td>4.0</td>\n",
       "      <td>0</td>\n",
       "      <td>1</td>\n",
       "      <td>1.0</td>\n",
       "    </tr>\n",
       "  </tbody>\n",
       "</table>\n",
       "</div>"
      ],
      "text/plain": [
       "    Survived  Pclass  Sex  Age  Fare  Cabin  Embarked  Title  Family\n",
       "0          0       3    0  1.0   0.0    4.0         0      0     2.0\n",
       "1          1       1    1  3.0   2.0    0.0         1      2     2.0\n",
       "2          1       3    1  2.0   0.0    4.0         0      1     1.0\n",
       "3          1       1    1  2.0   2.0    0.0         0      2     2.0\n",
       "4          0       3    0  2.0   0.0    4.0         0      0     1.0\n",
       "5          0       3    0  2.0   0.0    4.0         2      0     1.0\n",
       "6          0       1    0  3.0   2.0    3.0         0      0     1.0\n",
       "7          0       3    0  0.0   1.0    4.0         0      3     3.0\n",
       "8          1       3    1  2.0   0.0    4.0         0      2     3.0\n",
       "9          1       2    1  0.0   2.0    3.5         1      2     2.0\n",
       "10         1       3    1  0.0   1.0    4.0         0      1     3.0\n",
       "11         1       1    1  3.0   1.0    0.0         0      1     1.0\n",
       "12         0       3    0  1.0   0.0    4.0         0      0     1.0\n",
       "13         0       3    0  3.0   2.0    4.0         0      0     3.0\n",
       "14         0       3    1  0.0   0.0    4.0         0      1     1.0"
      ]
     },
     "execution_count": 1013,
     "metadata": {},
     "output_type": "execute_result"
    }
   ],
   "source": [
    "train.head(15)"
   ]
  },
  {
   "cell_type": "markdown",
   "metadata": {},
   "source": [
    "### Logistic Regression"
   ]
  },
  {
   "cell_type": "markdown",
   "metadata": {},
   "source": [
    "##### A simpler version of Logistic Regression using 'Pclass' & 'Sex'"
   ]
  },
  {
   "cell_type": "code",
   "execution_count": 1051,
   "metadata": {},
   "outputs": [
    {
     "name": "stdout",
     "output_type": "stream",
     "text": [
      "0.08664854860155158\n",
      "0.2869864230462158\n",
      "0.6017627397264806\n",
      "-0.0067189344475286905\n",
      "-0.40348239134250274\n",
      "-0.02897448753200238\n",
      "-0.4243969600276589\n",
      "-0.040463347916782855\n"
     ]
    }
   ],
   "source": [
    "#Parameters needed : w0, w1, w2... : w_list = []\n",
    "\n",
    "#Set w0, w1, w2... w7 randomly\n",
    "import random\n",
    "w_list = []\n",
    "for i in range(0, 8) :\n",
    "    w_list.append(random.random() * 2 - 1)\n",
    "\n",
    "#check randomly generated nums\n",
    "for i in range(0, 8) :\n",
    "    print(w_list[i])\n",
    "\n",
    "# set learning rate alpha : a\n",
    "a = 0.001"
   ]
  },
  {
   "cell_type": "code",
   "execution_count": 1052,
   "metadata": {},
   "outputs": [
    {
     "name": "stdout",
     "output_type": "stream",
     "text": [
      "[0.0, 3.0, 0.0, 1.0, 0.0, 0.0, 4.0, 0.0, 2.0]\n",
      "[3.0, 0.0, 2.0, 0.0, 2.0, 4.0, 0.0, 1.0]\n"
     ]
    }
   ],
   "source": [
    "train_df = pd.DataFrame(train, columns= ['Survived', 'Pclass', 'Sex', 'Age', 'Fare', 'Embarked', 'Cabin', 'Title', 'Family'])\n",
    "test_df = pd.DataFrame(test, columns= ['Pclass', 'Sex', 'Age', 'Fare', 'Embarked', 'Cabin', 'Title', 'Family'])\n",
    "\n",
    "train_list = []\n",
    "test_list = []\n",
    "\n",
    "#train_list : [Survived, Pclass, Sex, ...]\n",
    "train_list = train_df.values.tolist()\n",
    "\n",
    "#test_list = [Pclass, Sex]\n",
    "test_list = test_df.values.tolist()\n",
    "\n",
    "print(train_list[0])\n",
    "print(test_list[0])"
   ]
  },
  {
   "cell_type": "code",
   "execution_count": 1053,
   "metadata": {},
   "outputs": [
    {
     "data": {
      "text/plain": [
       "(891, 418)"
      ]
     },
     "execution_count": 1053,
     "metadata": {},
     "output_type": "execute_result"
    }
   ],
   "source": [
    "len(train_list), len(test_list)"
   ]
  },
  {
   "cell_type": "code",
   "execution_count": 1054,
   "metadata": {},
   "outputs": [],
   "source": [
    "import math\n",
    "cnt = 0\n",
    "while(cnt < 50000) :\n",
    "    sum = 0 # Σ i : 1 to m(= 891)\n",
    "    for i in range(0, 891) :\n",
    "        # Zi = w0 + w1 * x1 + w2 * x2 + ... + wn * xn\n",
    "        Zi = w_list[0]\n",
    "        for j in range (1, 8) :\n",
    "            Zi = Zi + train_list[i][j] * w_list[j]\n",
    "            \n",
    "        Hi = 1 / (1 + math.exp(-Zi)) # Hi = 1 / (1 + e^(-Zi))\n",
    "        Hi_y = Hi - train_list[i][0] # H(xi) - yi\n",
    "        if cnt % 8 == 0 : # if w0\n",
    "            sum = sum + Hi_y # Σ(Hi - y)\n",
    "        else : # if Wn\n",
    "            Hi_y_x = Hi_y * train_list[i][cnt % 8] # Σ(Hi - y) * Xi\n",
    "            sum = sum + Hi_y_x\n",
    "    # X = a * 1/m * Σ(...)\n",
    "    X = a * sum / 891\n",
    "    w_list[cnt % 8] = w_list[cnt % 8] - X\n",
    "    cnt = cnt + 1"
   ]
  },
  {
   "cell_type": "code",
   "execution_count": 1055,
   "metadata": {},
   "outputs": [
    {
     "name": "stdout",
     "output_type": "stream",
     "text": [
      "-1.5287049804036363\n",
      "0.2515686087068403\n",
      "-1.7424711170971403\n",
      "-1.7367497286107878\n",
      "0.4458233253915307\n",
      "-1.5424950119260974\n",
      "0.015239283056749153\n",
      "-1.715462021109303\n",
      "0.5498456994951064\n",
      "-1.5988232427581441\n",
      "-1.7367497286107878\n",
      "-0.515341233718345\n",
      "1.8051583061366172\n",
      "-1.9097167377939934\n",
      "0.7330638789571823\n",
      "0.5711334069965912\n",
      "-1.54821640041245\n",
      "-1.5355999961648668\n",
      "-0.1928054651504023\n",
      "0.355590982810416\n",
      "-0.37051973210447076\n",
      "0.08200928467266633\n",
      "1.6109035894519268\n",
      "-0.1762650154197803\n",
      "1.7557250910658009\n",
      "-1.833877086953133\n",
      "1.367679248040605\n",
      "-1.5355999961648668\n",
      "-1.7913016719501633\n",
      "-1.5919282269969135\n",
      "-1.812589379451648\n",
      "-1.5775355352566593\n",
      "0.38949509455948395\n",
      "0.29236773621713874\n",
      "0.16552748148524676\n",
      "-1.5355999961648668\n",
      "-0.09567810680805722\n",
      "-0.09567810680805722\n",
      "-1.7367497286107878\n",
      "-1.6551514735901909\n",
      "-1.7298547128495572\n",
      "-0.857133730623372\n",
      "-1.833877086953133\n",
      "0.32918454704037203\n",
      "1.1719837342045545\n",
      "-1.7367497286107878\n",
      "-1.728078425356886\n",
      "-1.5287049804036363\n",
      "1.1788787499657851\n",
      "0.38949509455948395\n",
      "0.1586324657240162\n",
      "-1.611439647005727\n",
      "-0.07439039930657243\n",
      "1.6462484983523549\n",
      "-1.611439647005727\n",
      "0.33085316039011636\n",
      "-1.7367497286107878\n",
      "-1.7367497286107878\n",
      "-1.6959506011004892\n",
      "1.3113510172085583\n",
      "-1.6396223702684425\n",
      "-1.7562611486196014\n",
      "-1.6396223702684425\n",
      "0.11236664139909425\n",
      "1.5861657670316271\n",
      "0.2728563162083252\n",
      "0.11236664139909425\n",
      "-0.4745421062080465\n",
      "0.12472835397494833\n",
      "1.9934952138672524\n",
      "0.11236664139909425\n",
      "-1.6396223702684425\n",
      "-0.1928054651504023\n",
      "-0.7531113565197962\n",
      "1.7502708724559306\n",
      "0.20632660899554517\n",
      "-1.7367497286107878\n",
      "2.0090243171890005\n",
      "-1.7562611486196014\n",
      "0.11236664139909425\n",
      "0.22683078628654063\n",
      "-0.09195048179272103\n",
      "-0.515341233718345\n",
      "-1.7367497286107878\n",
      "-1.54821640041245\n",
      "-1.632727354507212\n",
      "0.015239283056749153\n",
      "-0.09567810680805722\n",
      "1.19536950579827\n",
      "0.10329699217415134\n",
      "0.4458233253915307\n",
      "-1.7367497286107878\n",
      "1.7080309477942721\n",
      "-1.7367497286107878\n",
      "-0.3141915012724239\n",
      "-1.7367497286107878\n",
      "1.952696086356954\n",
      "-1.7367497286107878\n",
      "-0.09567810680805722\n",
      "-1.7367497286107878\n",
      "2.153845818802875\n",
      "-1.715462021109303\n",
      "-1.5287049804036363\n",
      "-1.7367497286107878\n",
      "0.5498456994951064\n",
      "-1.6959506011004892\n",
      "-1.431577622061291\n",
      "-1.5287049804036363\n",
      "-1.7367497286107878\n",
      "-1.659133790277256\n",
      "-1.7085670053480724\n",
      "0.11236664139909425\n",
      "-0.04620767604385678\n",
      "0.11236664139909425\n",
      "1.9934952138672524\n",
      "-1.5355999961648668\n",
      "-1.632727354507212\n",
      "0.04224837904458645\n",
      "0.16552748148524676\n",
      "0.3699836745506704\n",
      "0.022736959035772886\n",
      "-1.5287049804036363\n",
      "2.2509731771452204\n",
      "-1.7367497286107878\n",
      "-1.5287049804036363\n",
      "-0.05487897929775887\n",
      "-1.6396223702684425\n",
      "0.1531657689093926\n",
      "-1.8533885069619465\n",
      "-1.6396223702684425\n",
      "-1.7367497286107878\n",
      "1.6521052922313668\n",
      "0.29236773621713874\n",
      "-1.632727354507212\n",
      "-1.833877086953133\n",
      "-1.6396223702684425\n",
      "-1.632727354507212\n",
      "-1.7562611486196014\n",
      "-0.09567810680805722\n",
      "-1.7522788319325362\n",
      "0.08304750655488502\n",
      "1.2073286431049826\n",
      "-0.4268479629365175\n",
      "-1.715462021109303\n",
      "-0.515341233718345\n",
      "-1.6959506011004892\n",
      "-1.2552544583604457\n",
      "-1.6396223702684425\n",
      "-0.4182138753759997\n",
      "-0.0909577245105393\n",
      "2.348100535487565\n",
      "-1.632727354507212\n",
      "-1.9310044452954782\n",
      "0.3486959670491856\n",
      "0.16360753969326325\n",
      "-1.6396223702684425\n",
      "1.6462484983523549\n",
      "-0.09567810680805722\n",
      "-0.9542610889657172\n",
      "0.3486959670491856\n",
      "0.11236664139909425\n",
      "0.22683078628654063\n",
      "-0.21231688515921587\n",
      "-1.7367497286107878\n",
      "-0.22888421036318274\n",
      "0.38949509455948395\n",
      "-0.37051973210447076\n",
      "-1.5580241152478456\n",
      "1.6741268360452042\n",
      "-0.09567810680805722\n",
      "-1.7367497286107878\n",
      "-1.632727354507212\n",
      "-1.6396223702684425\n",
      "-1.632727354507212\n",
      "-1.7522788319325362\n",
      "0.06353608654607146\n",
      "-0.03359127179627386\n",
      "0.06840012314290152\n",
      "0.41078280206096895\n",
      "0.7399588947184129\n",
      "-1.7562611486196014\n",
      "-1.15123208425687\n",
      "1.3662384508892451\n",
      "-1.5287049804036363\n",
      "1.8528524494081462\n",
      "-1.812589379451648\n",
      "-0.07439039930657243\n",
      "-1.6396223702684425\n",
      "-0.014079851787460296\n",
      "-1.8533885069619465\n",
      "-1.715462021109303\n",
      "-0.4182138753759997\n",
      "0.08200928467266633\n",
      "-1.7424711170971403\n",
      "0.14409611968444969\n",
      "-1.7367497286107878\n",
      "0.7083260565368826\n",
      "-0.09567810680805722\n",
      "-1.659133790277256\n",
      "0.2515686087068403\n",
      "0.1531657689093926\n",
      "0.08200928467266633\n",
      "1.7337035472519637\n",
      "0.022736959035772886\n",
      "-1.7562611486196014\n",
      "-0.3141915012724239\n",
      "0.015239283056749153\n",
      "-1.659133790277256\n",
      "-0.08700680355415535\n",
      "-1.7367497286107878\n",
      "-1.6959506011004892\n",
      "-1.7367497286107878\n",
      "-1.5775355352566593\n",
      "0.17572895786598008\n",
      "-0.2899328234927476\n",
      "-0.4745421062080465\n",
      "0.11236664139909425\n",
      "-0.4337429786977481\n",
      "2.194644946313173\n",
      "-1.7367497286107878\n",
      "-0.10829451105564014\n",
      "-1.6396223702684425\n",
      "0.4263119053827171\n",
      "-1.6396223702684425\n",
      "1.6741268360452042\n",
      "0.3963901103207146\n",
      "-1.6396223702684425\n",
      "0.11236664139909425\n",
      "-1.7930779594428345\n",
      "-1.7562611486196014\n",
      "-1.480408176914314\n",
      "1.2228577464267307\n",
      "-1.6396223702684425\n",
      "-1.5287049804036363\n",
      "0.06840012314290152\n",
      "-1.6396223702684425\n",
      "-0.9065669456941882\n",
      "-1.5355999961648668\n",
      "-0.11518952681687078\n",
      "2.194644946313173\n",
      "1.6741268360452042\n",
      "0.2728563162083252\n",
      "-1.2075603150889167\n",
      "-1.7367497286107878\n",
      "0.025681053840619583\n",
      "-0.9134619614554188\n",
      "0.4671110328930155\n",
      "-1.7717902519413498\n",
      "0.3699836745506704\n",
      "0.355590982810416\n",
      "0.022736959035772886\n",
      "-1.6396223702684425\n",
      "0.20632660899554517\n",
      "-1.6396223702684425\n",
      "-1.7367497286107878\n",
      "-1.7367497286107878\n",
      "-1.5287049804036363\n",
      "-1.7367497286107878\n",
      "-0.11518952681687078\n",
      "-1.6396223702684425\n",
      "-1.6959506011004892\n",
      "-1.6396223702684425\n",
      "0.3699836745506704\n",
      "0.0014492515342880985\n",
      "-1.6522387745160256\n",
      "-1.7367497286107878\n",
      "-0.4590130028862981\n",
      "-1.7367497286107878\n",
      "-0.09567810680805722\n",
      "-1.6396223702684425\n",
      "0.06840012314290152\n",
      "-1.5287049804036363\n",
      "2.2917723046555185\n",
      "0.1531657689093926\n",
      "-1.632727354507212\n",
      "-0.07439039930657243\n",
      "-1.7562611486196014\n",
      "-1.812589379451648\n",
      "-1.715462021109303\n",
      "-1.659133790277256\n",
      "-0.09567810680805722\n",
      "0.08200928467266633\n",
      "0.11236664139909425\n",
      "0.14627075314816218\n",
      "0.04224837904458645\n",
      "-1.7367497286107878\n",
      "-1.7367497286107878\n",
      "-0.2802873895233561\n",
      "-1.632727354507212\n",
      "-1.7367497286107878\n",
      "-0.3774147478657013\n",
      "0.015239283056749153\n",
      "-1.632727354507212\n",
      "-0.1667973753513996\n",
      "-1.7367497286107878\n",
      "-1.7367497286107878\n",
      "0.1675584606496472\n",
      "-1.5919282269969135\n",
      "-0.3774147478657013\n",
      "-1.7367497286107878\n",
      "-1.7367497286107878\n",
      "-0.7335999365109827\n",
      "-1.812589379451648\n",
      "-1.6396223702684425\n",
      "0.11236664139909425\n",
      "1.4729771035992834\n",
      "0.10230423489196941\n",
      "0.08200928467266633\n",
      "-0.4745421062080465\n",
      "0.2515686087068403\n",
      "-1.6396223702684425\n",
      "-1.5355999961648668\n",
      "-1.7367497286107878\n",
      "0.015239283056749153\n",
      "2.194644946313173\n",
      "0.11236664139909425\n",
      "-0.3297206045941723\n",
      "-1.659133790277256\n",
      "-1.7367497286107878\n",
      "-1.5775355352566593\n",
      "-1.7367497286107878\n",
      "-1.632727354507212\n",
      "-1.7562611486196014\n",
      "-0.4182138753759997\n",
      "1.1102012847626372\n",
      "-1.6396223702684425\n",
      "0.06353608654607146\n",
      "-0.37051973210447076\n",
      "-1.715462021109303\n",
      "-1.659133790277256\n",
      "0.31365544371862353\n",
      "-1.728078425356886\n",
      "-1.632727354507212\n",
      "0.5906448270054048\n",
      "-1.7367497286107878\n",
      "0.020705979871372564\n",
      "-1.7562611486196014\n",
      "-1.7298547128495572\n",
      "-1.6746628935990044\n",
      "0.08890430043389697\n",
      "-1.659133790277256\n",
      "-1.7367497286107878\n",
      "-1.6551514735901909\n",
      "1.7557250910658009\n",
      "-0.015118073669678767\n",
      "-0.09567810680805722\n",
      "-1.7562611486196014\n",
      "0.355590982810416\n",
      "-1.659133790277256\n",
      "-0.17151775764891752\n",
      "1.2760061083081302\n",
      "-1.7562611486196014\n",
      "-1.5775355352566593\n",
      "-1.7717902519413498\n",
      "0.04224837904458645\n",
      "-1.3931809442130894\n",
      "2.049823444699299\n",
      "-1.7367497286107878\n",
      "-1.5287049804036363\n",
      "0.38949509455948395\n",
      "0.16360753969326325\n",
      "0.6119325345068898\n",
      "0.3699836745506704\n",
      "-1.7367497286107878\n",
      "0.9342136114031034\n",
      "0.3331668637274372\n",
      "-1.632727354507212\n",
      "-0.014079851787460296\n",
      "1.7149259635555025\n",
      "-1.6522387745160256\n",
      "-1.659133790277256\n",
      "0.4335113067138139\n",
      "-0.5561403612286433\n",
      "-1.8533885069619465\n",
      "0.29414402370980997\n",
      "1.214223658866213\n",
      "-0.09567810680805722\n",
      "-1.659133790277256\n",
      "-0.03562225096067424\n",
      "0.16360753969326325\n",
      "-1.5287049804036363\n",
      "-1.5287049804036363\n",
      "0.2515686087068403\n",
      "0.48662245290182904\n",
      "-1.7562611486196014\n",
      "-0.03359127179627386\n",
      "-1.6396223702684425\n",
      "-1.8533885069619465\n",
      "-1.431577622061291\n",
      "0.1228084121829649\n",
      "-0.2802873895233561\n",
      "1.1719837342045545\n",
      "0.1228084121829649\n",
      "-1.8533885069619465\n",
      "-1.6959506011004892\n",
      "2.2440781613839897\n",
      "-1.431577622061291\n",
      "1.7149259635555025\n",
      "-1.6396223702684425\n",
      "-1.5287049804036363\n",
      "1.6462484983523549\n",
      "-1.812589379451648\n",
      "1.367679248040605\n",
      "-0.2802873895233561\n",
      "-0.8502387148621414\n",
      "-0.6772717056789359\n",
      "-1.659133790277256\n",
      "0.10919925065319994\n",
      "0.11236664139909425\n",
      "0.0014492515342880985\n",
      "0.11236664139909425\n",
      "2.3549955512487957\n",
      "-0.1928054651504023\n",
      "-1.7367497286107878\n",
      "2.7361463785127613\n",
      "-1.833877086953133\n",
      "-1.7367497286107878\n",
      "0.12970342794419532\n"
     ]
    }
   ],
   "source": [
    "answer_list = []\n",
    "for i in range (0, 418) :\n",
    "    Zx = w_list[0]\n",
    "    for j in range (1, 8) :\n",
    "        Zx = Zx + test_list[i][j-1] * w_list[j]\n",
    "    print(Zx)\n",
    "    if(Zx >= 0) :\n",
    "        answer_list.append(1)\n",
    "    else :\n",
    "        answer_list.append(0)\n",
    "\n",
    "test.loc[:, 'Survived'] = answer_list"
   ]
  },
  {
   "cell_type": "code",
   "execution_count": 1056,
   "metadata": {},
   "outputs": [
    {
     "name": "stdout",
     "output_type": "stream",
     "text": [
      "155\n"
     ]
    }
   ],
   "source": [
    "cnt = 0\n",
    "for answer in answer_list :\n",
    "    if answer == 1 :\n",
    "        cnt = cnt + 1\n",
    "print(cnt)"
   ]
  },
  {
   "cell_type": "code",
   "execution_count": 1057,
   "metadata": {},
   "outputs": [],
   "source": [
    "submission_df = pd.DataFrame({\n",
    "    \"PassengerId\" : test[\"PassengerId\"],\n",
    "    \"Survived\" : answer_list\n",
    "})"
   ]
  },
  {
   "cell_type": "code",
   "execution_count": 1058,
   "metadata": {},
   "outputs": [],
   "source": [
    "submission_df.to_csv('submission19.csv', index = False)"
   ]
  },
  {
   "cell_type": "code",
   "execution_count": 1059,
   "metadata": {},
   "outputs": [
    {
     "data": {
      "text/plain": [
       "(418, 2)"
      ]
     },
     "execution_count": 1059,
     "metadata": {},
     "output_type": "execute_result"
    }
   ],
   "source": [
    "submission_df.shape"
   ]
  },
  {
   "cell_type": "code",
   "execution_count": null,
   "metadata": {},
   "outputs": [],
   "source": []
  }
 ],
 "metadata": {
  "kernelspec": {
   "display_name": "Python 3",
   "language": "python",
   "name": "python3"
  },
  "language_info": {
   "codemirror_mode": {
    "name": "ipython",
    "version": 3
   },
   "file_extension": ".py",
   "mimetype": "text/x-python",
   "name": "python",
   "nbconvert_exporter": "python",
   "pygments_lexer": "ipython3",
   "version": "3.7.3"
  }
 },
 "nbformat": 4,
 "nbformat_minor": 2
}
